{
 "cells": [
  {
   "cell_type": "markdown",
   "metadata": {},
   "source": [
    "# 回帰における評価指標"
   ]
  },
  {
   "cell_type": "code",
   "execution_count": 1,
   "metadata": {},
   "outputs": [],
   "source": [
    "import numpy as np\n",
    "import pandas as pd"
   ]
  },
  {
   "cell_type": "markdown",
   "metadata": {},
   "source": [
    "## RMSE (Root Mean Squared Error)\n",
    "$$\n",
    "{\\large \\rm{RMSE} =  \\sqrt{\\frac{1}{N}\\sum_{i=1}^{N}(y_i-\\hat{y}_i)^2}}\n",
    "$$"
   ]
  },
  {
   "cell_type": "code",
   "execution_count": 2,
   "metadata": {},
   "outputs": [
    {
     "name": "stdout",
     "output_type": "stream",
     "text": [
      "0.5531726674375732\n"
     ]
    }
   ],
   "source": [
    "from sklearn.metrics import mean_squared_error\n",
    "\n",
    "y_true = [1.0, 1.5, 2.0, 1.2, 1.8]\n",
    "y_pred = [0.8, 1.5, 1.8, 1.3, 3.0]\n",
    "\n",
    "rmse = np.sqrt(mean_squared_error(y_true, y_pred))\n",
    "print(rmse)"
   ]
  },
  {
   "cell_type": "markdown",
   "metadata": {},
   "source": [
    "## RMSLE (Root Mean Squared Logarithmic Error)\n",
    "$$\n",
    "{\\large \\rm{RMSLE} = \\sqrt{\\frac{1}{N}\\sum_{i=1}^{N}\\{\\log(1+y_i)-\\log(1+\\hat{y}_i)\\}^2}}\n",
    "$$"
   ]
  },
  {
   "cell_type": "markdown",
   "metadata": {},
   "source": [
    "- 目的変数が裾の長い分布の持ち、大きな値の影響が強いときに使う\n",
    "- 真の値が０のときのために1加えてから対数をとる"
   ]
  },
  {
   "cell_type": "markdown",
   "metadata": {},
   "source": [
    "## MAE (Mean Absolute Error)\n",
    "$$\n",
    "{\\large \\rm{RAE} = \\frac{1}{N}\\sum_{i=1}^{N}|y_i-\\hat{y}_i|}\n",
    "$$"
   ]
  },
  {
   "cell_type": "markdown",
   "metadata": {},
   "source": [
    "- 外れ値の影響を低減した評価に適している\n",
    "- 数学的に扱いづらい"
   ]
  },
  {
   "cell_type": "markdown",
   "metadata": {},
   "source": [
    "## 決定係数 ($R^2$)\n",
    "$$\n",
    "{\\large R^2 = 1 - \\frac{\\sum_{i=1}^{N}(y_i-\\hat{y}_i)^2}{\\sum_{i=1}^{N}(y_i-\\bar{y}_i)^2}}\n",
    "$$"
   ]
  },
  {
   "cell_type": "markdown",
   "metadata": {},
   "source": [
    "- 回帰分析の当てはまりの良さを表す\n",
    "- 分母は定数なので$R^2$の最大化は分子のRMSEの最小化と同値"
   ]
  },
  {
   "cell_type": "markdown",
   "metadata": {},
   "source": [
    "# 二値分類における評価指標\n",
    "## 準備：混同行列 (confusion matrix)\n",
    "- TP (True Positive)：予測値を正例として、その予測値が正しい場合\n",
    "- TN (True Negative)：予測値を負例として、その予測値が正しい場合\n",
    "- FP (False Positive)：予測値を正例として、その予測値が誤りの場合\n",
    "- FN (False Negative)：予測値を負例としてその予測値が誤りの場合"
   ]
  },
  {
   "cell_type": "code",
   "execution_count": 3,
   "metadata": {},
   "outputs": [
    {
     "name": "stdout",
     "output_type": "stream",
     "text": [
      "[[3 1]\n",
      " [2 2]]\n"
     ]
    }
   ],
   "source": [
    "from sklearn.metrics import confusion_matrix\n",
    "\n",
    "y_true = [1, 0, 1, 1, 0, 1, 1, 0]\n",
    "y_pred = [0, 0, 1, 1, 0, 0, 1, 1]\n",
    "\n",
    "tp = np.sum((np.array(y_true) == 1) & (np.array(y_pred) == 1))\n",
    "tn = np.sum((np.array(y_true) == 0) & (np.array(y_pred) == 0))\n",
    "fp = np.sum((np.array(y_true) == 0) & (np.array(y_pred) == 1))\n",
    "fn = np.sum((np.array(y_true) == 1) & (np.array(y_pred) == 0))\n",
    "\n",
    "confusion_matrix = np.array([[tp, fp],\n",
    "                             [fn, tn]])\n",
    "print(confusion_matrix)"
   ]
  },
  {
   "cell_type": "markdown",
   "metadata": {},
   "source": [
    "## accuracy（正答率）とerror rate（誤答率）\n",
    "$$\n",
    "{\\large {\\rm accuracy} = \\frac{TP+TN}{TP + TN+FP+FN}}\n",
    "$$\n",
    "\n",
    "$$\n",
    "{\\large {\\rm error rate} = 1 - {\\rm accuracy}}\n",
    "$$\n",
    "\n",
    "- 不均衡なデータではモデルの評価をしづらい"
   ]
  },
  {
   "cell_type": "code",
   "execution_count": 4,
   "metadata": {},
   "outputs": [
    {
     "name": "stdout",
     "output_type": "stream",
     "text": [
      "0.625\n"
     ]
    }
   ],
   "source": [
    "from sklearn.metrics import accuracy_score\n",
    "\n",
    "y_true = [1, 0, 1, 1, 0, 1, 1, 0]\n",
    "y_pred = [0, 0, 1, 1, 0, 0, 1, 1]\n",
    "\n",
    "accuracy = accuracy_score(y_true, y_pred)\n",
    "print(accuracy)"
   ]
  },
  {
   "cell_type": "markdown",
   "metadata": {},
   "source": [
    "## precision（適合率）とrecall（再現率）\n",
    "$$\n",
    "{\\large {\\rm precision} = \\frac{TP}{TP+FP}}\n",
    "$$\n",
    "\n",
    "$$\n",
    "{\\large {\\rm recall} = \\frac{TP}{TP+FN}}\n",
    "$$\n",
    "\n",
    "- いずれも１に近づく方が良いスコア\n",
    "- precisionとrecallは互いにトレードオフの関係\n",
    "    - 単体では指標とはならず、セットで指標となる\n",
    "- 誤検知を少なくした場合はprecisionを重視\n",
    "- 正例の見逃しを避けたい場合はrecallを重視"
   ]
  },
  {
   "cell_type": "markdown",
   "metadata": {},
   "source": [
    "## F1-scoreとFβ-score\n",
    "$$\n",
    "{\\large {\\rm F_1} = \\frac{2}{\\frac{1}{\\rm recall}+\\frac{1}{\\rm precision}}\n",
    "= \\frac{2\\cdot{\\rm recall}\\cdot{\\rm precision}}{{\\rm recall}+ {\\rm precision}}\n",
    "= \\frac{2TP}{2TP+FP+FN}}\n",
    "$$\n",
    "\n",
    "$$\n",
    "{\\large {\\rm F_{\\beta}} = \\frac{1+\\beta^2}{\\frac{\\beta^2}{\\rm recall}+\\frac{1}{\\rm precision}}\n",
    "= \\frac{(1+\\beta^2)\\cdot{\\rm recall}\\cdot{\\rm precision}}{{\\rm recall}+ \\beta^2{\\rm precision}}}\n",
    "$$\n",
    "\n",
    "- F1-scoreはprecisionとrecallの調和平均でよく使われる\n",
    "- F1-scoreはF値とも呼ばれる\n",
    "- Fβ-scoreはrecallをどれだけ重視するかを係数βによって調整した指標"
   ]
  },
  {
   "cell_type": "markdown",
   "metadata": {},
   "source": [
    "## MCC (Matthews Correlation Coefficient)\n",
    "$$\n",
    "{\\large {\\rm MCC} = \\frac{TP \\times TN - FP \\times FN}{\\sqrt{(TP+FP)(TP+FN)(TN+FP)(TN+FN)}}}\n",
    "$$\n",
    "\n",
    "- 不均衡なデータに対してモデルの性能を適切に評価しやすい\n",
    "- -1から+1の範囲の値をとり、+1のときに完璧な予測、0のときにランダムな予測、-1のときに完全に反対の予測をしていることになる"
   ]
  },
  {
   "cell_type": "markdown",
   "metadata": {},
   "source": [
    "## logloss\n",
    "$$\n",
    "{\\large {\\rm logloss} = -\\frac{1}{N} \\sum_{i=1}^{N}(y_i\\log p_i+(1-y_i)\\log(1-p_1))\n",
    "= - \\frac{1}{N}\\sum_{i=1}^{N}\\log p'_i\n",
    "}\n",
    "$$\n",
    "\n",
    "- 正例である確率を予測値とする場合の評価指標\n",
    "- $y_i$は正例かどうかを表すラベル\n",
    "- $p_i$は各レコードが正例である予測確率\n",
    "- $p'_i$は真の予測をしている確率\n",
    "- 低い方が良い指標\n",
    "- 正例である確率を低く予測したにも関わらず正例である場合やその逆の場合はペナルティが大きく与えられる"
   ]
  },
  {
   "cell_type": "code",
   "execution_count": 5,
   "metadata": {},
   "outputs": [
    {
     "name": "stdout",
     "output_type": "stream",
     "text": [
      "0.7135581778200728\n"
     ]
    }
   ],
   "source": [
    "from sklearn.metrics import log_loss\n",
    "\n",
    "y_true = [1, 0, 1, 1, 0, 1]\n",
    "y_pred = [0.1, 0.2, 0.8, 0.8, 0.1, 0.3]\n",
    "\n",
    "logloss = log_loss(y_true, y_pred)\n",
    "print(logloss)"
   ]
  }
 ],
 "metadata": {
  "kernelspec": {
   "display_name": "Python 3",
   "language": "python",
   "name": "python3"
  },
  "language_info": {
   "codemirror_mode": {
    "name": "ipython",
    "version": 3
   },
   "file_extension": ".py",
   "mimetype": "text/x-python",
   "name": "python",
   "nbconvert_exporter": "python",
   "pygments_lexer": "ipython3",
   "version": "3.8.3"
  }
 },
 "nbformat": 4,
 "nbformat_minor": 4
}
